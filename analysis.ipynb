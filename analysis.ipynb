{
 "cells": [
  {
   "cell_type": "code",
   "execution_count": 31,
   "metadata": {},
   "outputs": [],
   "source": [
    "import parse\n",
    "import numpy as np"
   ]
  },
  {
   "cell_type": "code",
   "execution_count": 45,
   "metadata": {},
   "outputs": [],
   "source": [
    "# Get all the pose sequences from the parser\n",
    "# TODO: save these in the future\n",
    "all_ps = parse.main()\n",
    "\n",
    "# Consider only one of the PS. The order is:\n",
    "# ['poses/bicep_bad_1', 'poses/bicep_bad_2', 'poses/bicep_bad_3', 'poses/bicep_bad_4', 'poses/bicep_bad_5', 'poses/bicep_bad_6', 'poses/bicep_bad_7', 'poses/bicep_bad_8', 'poses/bicep_bad_9', 'poses/bicep_good_1', 'poses/bicep_good_2', 'poses/bicep_good_3', 'poses/bicep_good_4', 'poses/bicep_good_5', 'poses/bicep_good_6']\n",
    "ps = all_ps[9]"
   ]
  },
  {
   "cell_type": "code",
   "execution_count": 46,
   "metadata": {},
   "outputs": [
    {
     "name": "stdout",
     "output_type": "stream",
     "text": [
      "Right\n"
     ]
    }
   ],
   "source": [
    "# Given a PS, we first want to identify which arm is in the viewpoint\n",
    "# For every pose in the PS, count the number of times \n",
    "# shoulder/elbow/wrist is 0 for both left and right side.\n",
    "\n",
    "# Count number of non-zeros in right and left\n",
    "right_ct, left_ct = 0, 0\n",
    "\n",
    "for pose in ps.poses:\n",
    "    right_loc = [pose.rshoulder, pose.relbow, pose.rwrist]\n",
    "    left_loc = [pose.lshoulder, pose.lelbow, pose.lwrist]\n",
    "    for loc in right_loc:\n",
    "        right_ct = right_ct + 1 if loc.x > 0 else right_ct\n",
    "        right_ct = right_ct + 1 if loc.y > 0 else right_ct\n",
    "    for loc in left_loc:\n",
    "        left_ct = left_ct + 1 if loc.x > 0 else left_ct\n",
    "        left_ct = left_ct + 1 if loc.y > 0 else left_ct\n",
    "\n",
    "# Check which side has less 0's. Deal with tiebreaking later\n",
    "side = \"Right\" if right_ct > left_ct else \"Left\"\n",
    "print(side)"
   ]
  },
  {
   "cell_type": "code",
   "execution_count": 47,
   "metadata": {},
   "outputs": [
    {
     "name": "stdout",
     "output_type": "stream",
     "text": [
      "[-0.07629788008820149, -0.5222389400446829]\n"
     ]
    }
   ],
   "source": [
    "# Things we want to compute:\n",
    "# Vector of the upper arm (shoulder -> elbow)\n",
    "# Vector of the torso (neck -> hip)\n",
    "# Angle between upper arm and torso vector\n",
    "\n",
    "upper_arm_vectors = []\n",
    "torso_vectors = []\n",
    "upper_arm_torso_angle = []\n",
    "\n",
    "for pose in ps.poses:\n",
    "    if side == \"Right\":\n",
    "        joints = [pose.rshoulder, pose.relbow, pose.rwrist, pose.rhip]\n",
    "    else:\n",
    "        joints = [pose.lshoulder, pose.lelbow, pose.lwrist, pose.lhip]\n",
    "        \n",
    "    # Shoulder to elbow\n",
    "    arm_vec = [joints[0].x - joints[1].x, joints[0].y - joints[1].y]\n",
    "    upper_arm_vectors.append(arm_vec)\n",
    "    \n",
    "    # Neck to hip\n",
    "    tor_vec = [pose.neck.x - joints[3].x, pose.neck.y - joints[3].y]\n",
    "    torso_vectors.append(tor_vec)\n",
    "    \n",
    "    # Angle between upper arm and torso\n",
    "    # Normalize to unit vectors\n",
    "    arm_vec = arm_vec / np.linalg.norm(arm_vec)\n",
    "    tor_vec = tor_vec / np.linalg.norm(tor_vec)\n",
    "    angle = np.arccos(np.clip(np.dot(arm_vec, tor_vec), -1.0, 1.0))\n",
    "    upper_arm_torso_angle.append(angle)\n",
    "    \n",
    "print(upper_arm_vectors[15])"
   ]
  },
  {
   "cell_type": "code",
   "execution_count": 48,
   "metadata": {},
   "outputs": [
    {
     "name": "stdout",
     "output_type": "stream",
     "text": [
      "(114, 2)\n"
     ]
    },
    {
     "data": {
      "text/plain": [
       "<matplotlib.collections.PathCollection at 0x11602ee48>"
      ]
     },
     "execution_count": 48,
     "metadata": {},
     "output_type": "execute_result"
    },
    {
     "data": {
      "image/png": "[encoded data removed]",
      "text/plain": [
       "<matplotlib.figure.Figure at 0x1160eee10>"
      ]
     },
     "metadata": {},
     "output_type": "display_data"
    }
   ],
   "source": [
    "import matplotlib.pyplot as plt\n",
    "upper_arm_vectors = np.array(upper_arm_vectors)\n",
    "torso_vectors = np.array(torso_vectors)\n",
    "upper_arm_torso_angle = np.array(upper_arm_torso_angle)\n",
    "print(upper_arm_vectors.shape)\n",
    "plt.scatter(np.arange(upper_arm_torso_angle.shape[0]),upper_arm_torso_angle)"
   ]
  },
  {
   "cell_type": "code",
   "execution_count": 44,
   "metadata": {},
   "outputs": [
    {
     "name": "stdout",
     "output_type": "stream",
     "text": [
      "(146, 2)\n"
     ]
    },
    {
     "data": {
      "text/plain": [
       "<matplotlib.collections.PathCollection at 0x1160980b8>"
      ]
     },
     "execution_count": 44,
     "metadata": {},
     "output_type": "execute_result"
    },
    {
     "data": {
      "image/png": "[encoded data removed]",
      "text/plain": [
       "<matplotlib.figure.Figure at 0x115be0748>"
      ]
     },
     "metadata": {},
     "output_type": "display_data"
    }
   ],
   "source": [
    "upper_arm_vectors = np.array(upper_arm_vectors)\n",
    "torso_vectors = np.array(torso_vectors)\n",
    "upper_arm_torso_angle = np.array(upper_arm_torso_angle)\n",
    "print(upper_arm_vectors.shape)\n",
    "plt.scatter(np.arange(upper_arm_torso_angle.shape[0]),upper_arm_torso_angle)"
   ]
  }
 ],
 "metadata": {
  "kernelspec": {
   "display_name": "Python 3",
   "language": "python",
   "name": "python3"
  },
  "language_info": {
   "codemirror_mode": {
    "name": "ipython",
    "version": 3
   },
   "file_extension": ".py",
   "mimetype": "text/x-python",
   "name": "python",
   "nbconvert_exporter": "python",
   "pygments_lexer": "ipython3",
   "version": "3.6.4"
  }
 },
 "nbformat": 4,
 "nbformat_minor": 2
}
