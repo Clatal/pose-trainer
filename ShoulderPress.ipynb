{
 "cells": [
  {
   "cell_type": "code",
   "execution_count": 1,
   "metadata": {
    "collapsed": true
   },
   "outputs": [],
   "source": [
    "import os\n",
    "import sys\n",
    "import glob\n",
    "import numpy as np\n",
    "\n",
    "from parse import load_ps\n",
    "\n",
    "import matplotlib.pyplot as plt"
   ]
  },
  {
   "cell_type": "code",
   "execution_count": 2,
   "metadata": {
    "collapsed": true
   },
   "outputs": [],
   "source": [
    "def split_num(s):\n",
    "    head = s.rstrip('0123456789')\n",
    "    tail = s[len(head):]\n",
    "    return head, tail"
   ]
  },
  {
   "cell_type": "code",
   "execution_count": 3,
   "metadata": {
    "collapsed": true
   },
   "outputs": [],
   "source": [
    "def files_in_order(folderpath):\n",
    "    npy_files = os.listdir(folderpath)\n",
    "\n",
    "    no_extensions = [os.path.splitext(npy_file)[0] for npy_file in npy_files]\n",
    "\n",
    "    splitted = [split_num(s) for s in no_extensions]\n",
    "\n",
    "    splitted = np.array(splitted)\n",
    "\n",
    "    indices = np.lexsort((splitted[:, 1].astype(int), splitted[:, 0]))\n",
    "\n",
    "    npy_files = np.array(npy_files)\n",
    "    return npy_files[indices]"
   ]
  },
  {
   "cell_type": "code",
   "execution_count": 5,
   "metadata": {
    "collapsed": false
   },
   "outputs": [
    {
     "name": "stdout",
     "output_type": "stream",
     "text": [
      "['shoulderpressbad1.npy' 'shoulderpressbad2.npy' 'shoulderpressbad3.npy'\n",
      " 'shoulderpressbad4.npy' 'shoulderpressbad5.npy' 'shoulderpressbad6.npy'\n",
      " 'shoulderpressbad7.npy' 'shoulderpressbad8.npy' 'shoulderpressbad9.npy'\n",
      " 'shoulderpressbad10.npy' 'shoulderpressbad11.npy'\n",
      " 'shoulderpressbad12.npy' 'shoulderpressbad13.npy'\n",
      " 'shoulderpressbad14.npy' 'shoulderpressbad15.npy'\n",
      " 'shoulderpressbad16.npy' 'shoulderpressbad17.npy'\n",
      " 'shoulderpressgood1.npy' 'shoulderpressgood2.npy'\n",
      " 'shoulderpressgood3.npy' 'shoulderpressgood4.npy'\n",
      " 'shoulderpressgood5.npy' 'shoulderpressgood6.npy'\n",
      " 'shoulderpressgood7.npy' 'shoulderpressgood8.npy'\n",
      " 'shoulderpressgood9.npy' 'shoulderpressgood10.npy'\n",
      " 'shoulderpressgood11.npy' 'shoulderpressgood12.npy'\n",
      " 'shoulderpressgood13.npy' 'shoulderpressgood14.npy'\n",
      " 'shoulderpressgood15.npy' 'shoulderpressgood16.npy'\n",
      " 'shoulderpressgood17.npy' 'shoulderpressgood18.npy'\n",
      " 'shoulderpressgood19.npy']\n"
     ]
    }
   ],
   "source": [
    "files = files_in_order('poses_compressed\\\\shoulderpress')\n",
    "print(files)"
   ]
  },
  {
   "cell_type": "code",
   "execution_count": 1,
   "metadata": {
    "collapsed": false,
    "scrolled": false
   },
   "outputs": [
    {
     "ename": "NameError",
     "evalue": "name 'files' is not defined",
     "output_type": "error",
     "traceback": [
      "\u001b[0;31m---------------------------------------------------------------------------\u001b[0m",
      "\u001b[0;31mNameError\u001b[0m                                 Traceback (most recent call last)",
      "\u001b[0;32m<ipython-input-1-826d5b78b901>\u001b[0m in \u001b[0;36m<module>\u001b[0;34m()\u001b[0m\n\u001b[0;32m----> 1\u001b[0;31m \u001b[0;32mfor\u001b[0m \u001b[0mfilename\u001b[0m \u001b[0;32min\u001b[0m \u001b[0mfiles\u001b[0m\u001b[0;34m:\u001b[0m\u001b[0;34m\u001b[0m\u001b[0m\n\u001b[0m\u001b[1;32m      2\u001b[0m     \u001b[0mprint\u001b[0m\u001b[0;34m(\u001b[0m\u001b[0;34m\"=\"\u001b[0m\u001b[0;34m*\u001b[0m\u001b[0;36m30\u001b[0m\u001b[0;34m)\u001b[0m\u001b[0;34m\u001b[0m\u001b[0m\n\u001b[1;32m      3\u001b[0m     \u001b[0mprint\u001b[0m\u001b[0;34m(\u001b[0m\u001b[0;34m\"Starting:\"\u001b[0m\u001b[0;34m,\u001b[0m \u001b[0mfilename\u001b[0m\u001b[0;34m)\u001b[0m\u001b[0;34m\u001b[0m\u001b[0m\n\u001b[1;32m      4\u001b[0m     \u001b[0mps\u001b[0m \u001b[0;34m=\u001b[0m \u001b[0mload_ps\u001b[0m\u001b[0;34m(\u001b[0m\u001b[0;34m\"poses_compressed\\\\shoulderpress\\\\\"\u001b[0m\u001b[0;34m+\u001b[0m\u001b[0mfilename\u001b[0m\u001b[0;34m)\u001b[0m\u001b[0;34m\u001b[0m\u001b[0m\n\u001b[1;32m      5\u001b[0m     \u001b[0mposes\u001b[0m \u001b[0;34m=\u001b[0m \u001b[0mps\u001b[0m\u001b[0;34m.\u001b[0m\u001b[0mposes\u001b[0m\u001b[0;34m\u001b[0m\u001b[0m\n",
      "\u001b[0;31mNameError\u001b[0m: name 'files' is not defined"
     ]
    }
   ],
   "source": [
    "for filename in files:\n",
    "    print(\"=\"*30)\n",
    "    print(\"Starting:\", filename)\n",
    "    ps = load_ps(\"poses_compressed\\\\shoulderpress\\\\\"+filename)\n",
    "    poses = ps.poses\n",
    "    \n",
    "    right_present = [1 for pose in poses \n",
    "            if pose.rshoulder.exists and pose.relbow.exists and pose.rwrist.exists]\n",
    "    left_present = [1 for pose in poses\n",
    "            if pose.lshoulder.exists and pose.lelbow.exists and pose.lwrist.exists]\n",
    "    right_count = sum(right_present)\n",
    "    left_count = sum(left_present)\n",
    "    side = 'right' if right_count > left_count else 'left'\n",
    "\n",
    "    print('Exercise arm detected as: {}.'.format(side))\n",
    "    \n",
    "    if side == 'right':\n",
    "        joints = [(pose.rshoulder, pose.relbow, pose.rwrist, pose.rhip, pose.neck) for pose in poses]\n",
    "    else:\n",
    "        joints = [(pose.lshoulder, pose.lelbow, pose.lwrist, pose.lhip, pose.neck) for pose in poses]\n",
    "\n",
    "    # filter out data points where a part does not exist\n",
    "    joints = [joint for joint in joints if all(part.exists for part in joint)]\n",
    "    joints_ = np.array(joints)\n",
    "    \n",
    "    # Neck to hip\n",
    "    back_vec = np.array([(joint[4].x - joint[3].x, joint[4].y - joint[3].y) for joint in joints])\n",
    "    # Check range of motion of the back\n",
    "    # Straining back\n",
    "    back_vec_range = np.max(back_vec, axis=0) - np.min(back_vec, axis=0)\n",
    "    print(\"Range of motion for back: %s\" % back_vec_range)\n",
    "    \n",
    "    # Rolling shoulder too much\n",
    "    elbow = joints_[:, 1]\n",
    "    elbow_x = np.array([joint.x for joint in elbow])\n",
    "\n",
    "    neck = joints_[:, 4]\n",
    "    neck_x = np.array([joint.x for joint in neck])\n",
    "        \n",
    "    if side =='right':\n",
    "        print(\"Minimum distance between elbow and neck: \", np.min(elbow_x - neck_x))\n",
    "    else:\n",
    "        print(\"Minimum distance between elbow and neck: \", np.min(neck_x - elbow_x))\n",
    "    \n",
    "    # Shoulder to elbow    \n",
    "    upper_arm_vecs = np.array([(joint[0].x - joint[1].x, joint[0].y - joint[1].y) for joint in joints])\n",
    "    # Elbow to wrist\n",
    "    forearm_vecs = np.array([(joint[2].x - joint[1].x, joint[2].y - joint[1].y) for joint in joints])\n",
    "    \n",
    "    # normalize vectors\n",
    "    upper_arm_vecs = upper_arm_vecs / np.expand_dims(np.linalg.norm(upper_arm_vecs, axis=1), axis=1)\n",
    "    forearm_vecs = forearm_vecs / np.expand_dims(np.linalg.norm(forearm_vecs, axis=1), axis=1)\n",
    "    \n",
    "    # Check if raised all the way up\n",
    "    upper_arm_forearm_angles = np.degrees(np.arccos(np.clip(np.sum(np.multiply(upper_arm_vecs, forearm_vecs), axis=1), -1.0, 1.0)))\n",
    "    print(\"Max upper arm and forearm angle: \", np.max(upper_arm_forearm_angles))\n",
    "    \n"
   ]
  },
  {
   "cell_type": "code",
   "execution_count": null,
   "metadata": {
    "collapsed": true
   },
   "outputs": [],
   "source": []
  }
 ],
 "metadata": {
  "kernelspec": {
   "display_name": "Python 3",
   "language": "python",
   "name": "python3"
  },
  "language_info": {
   "codemirror_mode": {
    "name": "ipython",
    "version": 3
   },
   "file_extension": ".py",
   "mimetype": "text/x-python",
   "name": "python",
   "nbconvert_exporter": "python",
   "pygments_lexer": "ipython3",
   "version": "3.6.4"
  }
 },
 "nbformat": 4,
 "nbformat_minor": 2
}
